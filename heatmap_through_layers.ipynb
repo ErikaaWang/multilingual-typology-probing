{
 "cells": [
  {
   "cell_type": "code",
   "execution_count": 4,
   "metadata": {},
   "outputs": [],
   "source": [
    "import pandas as pd\n",
    "import seaborn as sns\n",
    "import matplotlib.pyplot as plt"
   ]
  },
  {
   "cell_type": "code",
   "execution_count": 5,
   "metadata": {},
   "outputs": [],
   "source": [
    "file = 'ovlp-rate_POS'\n",
    "layers = ['inter-layer-13', 'inter-layer-17', 'last-layer']\n",
    "layer2idx = {'inter-layer-13': '12', 'inter-layer-17': '16', 'last-layer': '25(last)'}\n",
    "output_plot_path = 'experiments/heatmaps/through_layers'\n",
    "\n",
    "# model_ckpt_dict = {'bloom-560m': ['best', '1000', '100000', '200000', '300000', '400000', '600000'], \n",
    "#                    'bloom-1b1': ['best', '1000', '10000', '100000', '200000', '300000', '400000', '500000', '600000'], \n",
    "#                    'bloom-1b7': ['best', '50000', '100000', '150000', '200000'],\n",
    "#                    }\n",
    "\n",
    "model_ckpt_dict = {'bloom-560m': ['best']}"
   ]
  },
  {
   "cell_type": "code",
   "execution_count": 9,
   "metadata": {},
   "outputs": [
    {
     "data": {
      "text/plain": [
       "<Figure size 640x480 with 0 Axes>"
      ]
     },
     "metadata": {},
     "output_type": "display_data"
    }
   ],
   "source": [
    "for model, ckpt_list in model_ckpt_dict.items():\n",
    "    for ckpt in ckpt_list:\n",
    "        heatmap_data = []\n",
    "        for layer in layers:\n",
    "            df = pd.read_csv(f'csv_files/{model}_{layer}_{file}.csv', index_col=0)\n",
    "            heatmap_data.append(df[ckpt].rename(layer2idx[layer]))\n",
    "        df = pd.DataFrame(heatmap_data)\n",
    "        # df = df.drop(columns=['ca', 'en', 'mr', 'zh'])\n",
    "        # df = df.reindex(sorted(df.columns), axis=1)\n",
    "        ax = sns.heatmap(df, annot=True, fmt=\".2f\", square=True, cbar_kws={\"shrink\": .33})\n",
    "        # vmin=0, vmax=1, \n",
    "        ax.set(xlabel=\"Target Languages\", ylabel=\"Layer Index\")\n",
    "        plt.savefig(f'{output_plot_path}/{model}_{ckpt}_{file}.pdf', bbox_inches='tight') \n",
    "        plt.clf()\n",
    "        "
   ]
  }
 ],
 "metadata": {
  "kernelspec": {
   "display_name": "xtreme",
   "language": "python",
   "name": "python3"
  },
  "language_info": {
   "codemirror_mode": {
    "name": "ipython",
    "version": 3
   },
   "file_extension": ".py",
   "mimetype": "text/x-python",
   "name": "python",
   "nbconvert_exporter": "python",
   "pygments_lexer": "ipython3",
   "version": "3.8.17"
  },
  "orig_nbformat": 4
 },
 "nbformat": 4,
 "nbformat_minor": 2
}
