{
 "cells": [
  {
   "cell_type": "code",
   "execution_count": 1,
   "metadata": {},
   "outputs": [],
   "source": [
    "import pandas as pd\n",
    "import os"
   ]
  },
  {
   "cell_type": "code",
   "execution_count": 2,
   "metadata": {},
   "outputs": [],
   "source": [
    "model_ckpt_dict = {\n",
    "    'bloom-560m': [1000, 10000, 100000, 200000, 300000, 400000, 500000, 600000],\n",
    "    'bloom-1b1': [1000, 10000, 100000, 200000, 300000, 400000, 500000, 600000],\n",
    "    'bloom-1b7': [1000, 10000, 50000, 100000, 150000, 200000, 250000, 300000], \n",
    "}\n",
    "\n",
    "trg_langs = ['ar', 'es', 'eu', 'fr', 'hi', 'pt', 'ta', 'ur', 'vi']\n",
    "\n",
    "similarity_result_path = os.path.join('../parallel-sentence-similarity/experiments/cos_similarity_csv/')\n",
    "output_csv_file_path = 'csv_files/'\n",
    "layer = 'last-layer'"
   ]
  },
  {
   "cell_type": "code",
   "execution_count": 3,
   "metadata": {},
   "outputs": [],
   "source": [
    "def read_similarity_by_langs(path, lang_list, read_code=False):\n",
    "    similarity_dict = {}\n",
    "    for lang in lang_list:\n",
    "        result_file = os.path.join(path, f'en-{lang}.csv')\n",
    "        with open(result_file, 'r') as f:\n",
    "            last_line = f.readlines()[-1]\n",
    "            similarity_dict[lang] = float(last_line.split(',')[1])\n",
    "    if read_code:\n",
    "        result_file = os.path.join(path, f'nl-code.csv')\n",
    "        with open(result_file, 'r') as f:\n",
    "            last_line = f.readlines()[-1]\n",
    "            similarity_dict['code'] = float(last_line.split(',')[1])\n",
    "    return similarity_dict"
   ]
  },
  {
   "cell_type": "code",
   "execution_count": 4,
   "metadata": {},
   "outputs": [
    {
     "name": "stdout",
     "output_type": "stream",
     "text": [
      "          best      1000     10000    100000    200000    300000    400000  \\\n",
      "ar    0.077330  0.457647  0.203364  0.176615  0.027245  0.678346  0.105271   \n",
      "es    0.887743  0.727895  0.826337  0.889176  0.990906  0.993016  0.996312   \n",
      "eu    0.746171  0.703451  0.644629  0.765071  0.769899  0.927408  0.957210   \n",
      "fr    0.894948  0.727756  0.828873  0.905522  0.992900  0.995207  0.996782   \n",
      "hi    0.116905  0.657520  0.286740  0.358499  0.062266  0.669454 -0.015551   \n",
      "pt    0.902158  0.760800  0.795679  0.875740  0.989301  0.990275  0.997125   \n",
      "ta    0.088106  0.577768  0.201776  0.226207  0.001060  0.158025  0.048556   \n",
      "ur    0.129696  0.466826  0.146380  0.232983 -0.143666  0.574029  0.228214   \n",
      "vi    0.865738  0.665003  0.490437  0.753974  0.928092  0.941562  0.940514   \n",
      "code  0.953850  0.135067  0.376788  0.518225  0.984069  0.990153  0.981627   \n",
      "\n",
      "        500000    600000  \n",
      "ar    0.203364  0.356799  \n",
      "es    0.826337  0.734460  \n",
      "eu    0.644629  0.746231  \n",
      "fr    0.828873  0.737500  \n",
      "hi    0.286740  0.745364  \n",
      "pt    0.795679  0.759483  \n",
      "ta    0.201776  0.756324  \n",
      "ur    0.146380  0.556315  \n",
      "vi    0.490437  0.773889  \n",
      "code  0.376788  0.225760  \n",
      "          best      1000     10000    100000    200000    300000    400000  \\\n",
      "ar    0.299617  0.467144  0.189933  0.173107  0.008065  0.312846  0.435546   \n",
      "es    0.861745  0.739570  0.833377  0.857822  0.863379  0.977992  0.705555   \n",
      "eu    0.703551  0.709873  0.694490  0.678489  0.728344  0.789927  0.707902   \n",
      "fr    0.884999  0.752801  0.838724  0.836558  0.902023  0.979720  0.704220   \n",
      "hi    0.131328  0.662507  0.280287  0.133543  0.181074 -0.157145  0.703625   \n",
      "pt    0.845937  0.755775  0.803717  0.840606  0.836502  0.966522  0.719213   \n",
      "ta    0.192500  0.675330  0.304682  0.176488  0.229328  0.190925  0.714134   \n",
      "ur    0.323340  0.483903  0.197228  0.263791  0.192018  0.056809  0.564283   \n",
      "vi    0.559370  0.707367  0.522935  0.596717  0.695773  0.798077  0.730567   \n",
      "code  0.689961  0.150309  0.476802  0.679950  0.724995  0.957996  0.376803   \n",
      "\n",
      "        500000    600000  \n",
      "ar    0.228128  0.224616  \n",
      "es    0.919106  0.868726  \n",
      "eu    0.782741  0.689138  \n",
      "fr    0.938419  0.887485  \n",
      "hi    0.337882  0.135823  \n",
      "pt    0.899642  0.856183  \n",
      "ta    0.306744  0.147844  \n",
      "ur    0.290079  0.262439  \n",
      "vi    0.731029  0.563004  \n",
      "code  0.813408  0.786381  \n",
      "          best      1000     10000     50000    100000    150000    200000  \\\n",
      "ar    0.258015  0.364958  0.364958  0.592041  0.141476  0.449219  0.305492   \n",
      "es    0.953157  0.721608  0.721608  0.865843  0.839069  0.975082  0.976616   \n",
      "eu    0.707166  0.689580  0.689580  0.720346  0.717473  0.667259  0.750607   \n",
      "fr    0.964026  0.738033  0.738033  0.873063  0.892876  0.981985  0.982041   \n",
      "hi    0.180724  0.626446  0.626446  0.161188  0.106905  0.220990  0.154406   \n",
      "pt    0.923876  0.723795  0.723795  0.825822  0.810327  0.961404  0.965061   \n",
      "ta    0.195765  0.616544  0.616544  0.241109  0.162498  0.131560  0.170172   \n",
      "ur    0.086568  0.495134  0.495134  0.393573  0.135843  0.238024  0.140202   \n",
      "vi    0.587178  0.740569  0.740569  0.689875  0.605371  0.872723  0.792418   \n",
      "code  0.928088  0.171731  0.171731  0.835329  0.734449  0.958462  0.954514   \n",
      "\n",
      "        250000    300000  \n",
      "ar    0.170722  0.170722  \n",
      "es    0.975724  0.975724  \n",
      "eu    0.694844  0.694844  \n",
      "fr    0.980156  0.980156  \n",
      "hi    0.104195  0.104195  \n",
      "pt    0.959976  0.959976  \n",
      "ta    0.130263  0.130263  \n",
      "ur    0.070368  0.070368  \n",
      "vi    0.712512  0.712512  \n",
      "code  0.946537  0.946537  \n"
     ]
    }
   ],
   "source": [
    "for model, ckpt_list in model_ckpt_dict.items():\n",
    "\n",
    "    output_csv_file_name = os.path.join(output_csv_file_path, f'{model}_{layer}_cos-similarity.csv')\n",
    "    ckpt_similarity_dict = {}\n",
    "    # Dict{ckpt: Dict{ lang: similarity}}\n",
    "    ckpt_similarity_dict['best'] = read_similarity_by_langs(os.path.join(similarity_result_path, model, layer), trg_langs, read_code=True)\n",
    "    \n",
    "    for ckpt in ckpt_list:\n",
    "        ckpt_similarity_dict[ckpt] = read_similarity_by_langs(os.path.join(similarity_result_path, f'{model}-intermediate-global_step{ckpt}', layer), trg_langs, read_code=True)\n",
    "    \n",
    "    df = pd.DataFrame.from_dict(ckpt_similarity_dict)\n",
    "    print(df)\n",
    "    df.to_csv(output_csv_file_name)\n",
    "\n",
    "\n"
   ]
  },
  {
   "cell_type": "code",
   "execution_count": null,
   "metadata": {},
   "outputs": [],
   "source": []
  }
 ],
 "metadata": {
  "kernelspec": {
   "display_name": "xtreme",
   "language": "python",
   "name": "python3"
  },
  "language_info": {
   "codemirror_mode": {
    "name": "ipython",
    "version": 3
   },
   "file_extension": ".py",
   "mimetype": "text/x-python",
   "name": "python",
   "nbconvert_exporter": "python",
   "pygments_lexer": "ipython3",
   "version": "3.8.17"
  },
  "orig_nbformat": 4
 },
 "nbformat": 4,
 "nbformat_minor": 2
}
