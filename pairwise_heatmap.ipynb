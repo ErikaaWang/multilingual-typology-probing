{
 "cells": [
  {
   "cell_type": "code",
   "execution_count": 1,
   "metadata": {},
   "outputs": [],
   "source": [
    "import pandas as pd\n",
    "import seaborn as sns\n",
    "from matplotlib import pyplot as plt\n",
    "from matplotlib.patches import Rectangle"
   ]
  },
  {
   "cell_type": "code",
   "execution_count": 28,
   "metadata": {},
   "outputs": [],
   "source": [
    "model = 'bloom-1b7'\n",
    "layer = 'last-layer'\n",
    "drop_points = []\n",
    "\n",
    "output_plot_path = 'experiments/heatmaps/through_ckpts'"
   ]
  },
  {
   "cell_type": "code",
   "execution_count": 23,
   "metadata": {},
   "outputs": [
    {
     "data": {
      "text/plain": [
       "<Figure size 640x480 with 0 Axes>"
      ]
     },
     "metadata": {},
     "output_type": "display_data"
    }
   ],
   "source": [
    "df = pd.read_csv(f'csv_files/{model}_f1-score.csv', index_col=0).sort_index() * 100\n",
    "row_titles = ['en', 'ar', 'es', 'eu', 'fr', 'hi', 'mr', 'pt', 'ta', 'ur', 'vi', 'zh']\n",
    "df = df.reindex(index=row_titles)\n",
    "df = df.drop(columns=['best'])\n",
    "ax = sns.heatmap(df, annot=True, fmt=\".1f\", cmap='Greens_r')\n",
    "ax.set(xlabel=\"Global Steps in Training\", ylabel=\"Target Languages\")\n",
    "for wanted_label in drop_points:\n",
    "    wanted_index = df.columns.to_list().index(wanted_label)\n",
    "    N = len(df.index)\n",
    "    x, y, w, h = wanted_index, 0, 1, N\n",
    "    ax.add_patch(Rectangle((x, y), w, h, fill=False, edgecolor='black', lw=2, clip_on=False))\n",
    "    ax.tick_params(length=0)\n",
    "ax.set_title(\"POS\")\n",
    "plt.savefig(f'{output_plot_path}/{model}_f1_score.pdf', bbox_inches='tight') \n",
    "plt.clf()"
   ]
  },
  {
   "cell_type": "code",
   "execution_count": 24,
   "metadata": {},
   "outputs": [
    {
     "data": {
      "text/plain": [
       "<Figure size 640x480 with 0 Axes>"
      ]
     },
     "metadata": {},
     "output_type": "display_data"
    }
   ],
   "source": [
    "df = pd.read_csv(f'csv_files/{model}_xnli_acc.csv', index_col=0).sort_index() * 100\n",
    "row_titles = ['en', 'ar', 'es', 'fr', 'hi', 'ur', 'vi', 'zh']\n",
    "# drop_rows = ['bg', 'de', 'el','ru', 'sw', 'th', 'tr']\n",
    "# df = df.drop(index=drop_rows)\n",
    "df = df.reindex(index=row_titles)\n",
    "ax = sns.heatmap(df, annot=True, fmt=\".1f\", cmap='Blues_r')\n",
    "ax.set(xlabel=\"Global Steps in Training\", ylabel=\"Target Languages\")\n",
    "for wanted_label in drop_points:\n",
    "    wanted_index = df.columns.to_list().index(wanted_label)\n",
    "    N = len(df.index)\n",
    "    x, y, w, h = wanted_index, 0, 1, N\n",
    "    ax.add_patch(Rectangle((x, y), w, h, fill=False, edgecolor='black', lw=2, clip_on=False))\n",
    "    ax.tick_params(length=0)\n",
    "ax.set_title(\"XNLI\")\n",
    "plt.savefig(f'{output_plot_path}/{model}_xnli_acc.pdf', bbox_inches='tight') \n",
    "plt.clf()"
   ]
  },
  {
   "cell_type": "code",
   "execution_count": 29,
   "metadata": {},
   "outputs": [
    {
     "name": "stdout",
     "output_type": "stream",
     "text": [
      "          best     50000    100000    150000    200000\n",
      "ar    0.258015  0.592041  0.141476  0.449219  0.305492\n",
      "es    0.953157  0.865843  0.839069  0.975082  0.976616\n",
      "eu    0.707166  0.720346  0.717473  0.667259  0.750607\n",
      "fr    0.964026  0.873063  0.892876  0.981985  0.982041\n",
      "hi    0.180724  0.161188  0.106905  0.220990  0.154406\n",
      "pt    0.923876  0.825822  0.810327  0.961404  0.965061\n",
      "ta    0.195765  0.241109  0.162498  0.131560  0.170172\n",
      "ur    0.086568  0.393573  0.135843  0.238024  0.140202\n",
      "vi    0.587178  0.689875  0.605371  0.872723  0.792418\n",
      "code  0.928088  0.835329  0.734449  0.958462  0.954514\n"
     ]
    },
    {
     "data": {
      "text/plain": [
       "<Figure size 640x480 with 0 Axes>"
      ]
     },
     "metadata": {},
     "output_type": "display_data"
    }
   ],
   "source": [
    "df = pd.read_csv(f'csv_files/{model}_{layer}_cos-similarity.csv', index_col=0)\n",
    "print(df)\n",
    "df = df.drop(columns=['best'])\n",
    "ax = sns.heatmap(df, annot=True, fmt=\".3f\", cmap='rocket')\n",
    "ax.set(xlabel=\"Global Steps in Training\", ylabel=\"Target Languages\")\n",
    "for wanted_label in drop_points:\n",
    "    wanted_index = df.columns.to_list().index(wanted_label)\n",
    "    N = len(df.index)\n",
    "    x, y, w, h = wanted_index, 0, 1, N\n",
    "    ax.add_patch(Rectangle((x, y), w, h, fill=False, edgecolor='black', lw=2, clip_on=False))\n",
    "    ax.tick_params(length=0)\n",
    "ax.set_title(\"Average Parallel Sentence Similarity\")\n",
    "plt.savefig(f'{output_plot_path}/{model}_{layer}_cos-similarity.pdf', bbox_inches='tight') \n",
    "plt.clf()"
   ]
  },
  {
   "cell_type": "code",
   "execution_count": 18,
   "metadata": {},
   "outputs": [
    {
     "data": {
      "text/plain": [
       "<Figure size 640x480 with 0 Axes>"
      ]
     },
     "metadata": {},
     "output_type": "display_data"
    }
   ],
   "source": [
    "df = pd.read_csv(f'csv_files/{model}_{layer}_ovlp-rate_POS.csv', index_col=0).sort_index()\n",
    "df = df.drop(columns=['best'])\n",
    "df = df.drop(['en', 'ca'])\n",
    "ax = sns.heatmap(df, annot=True, cmap='viridis')\n",
    "ax.set(xlabel=\"Global Steps in Training\", ylabel=\"Target Languages\")\n",
    "for wanted_label in drop_points:\n",
    "    wanted_index = df.columns.to_list().index(wanted_label)\n",
    "    N = len(df.index)\n",
    "    x, y, w, h = wanted_index, 0, 1, N\n",
    "    ax.add_patch(Rectangle((x, y), w, h, fill=False, edgecolor='black', lw=2, clip_on=False))\n",
    "    ax.tick_params(length=0)\n",
    "plt.savefig(f'{output_plot_path}/{model}_{layer}_ovlp-rate.pdf', bbox_inches='tight') \n",
    "plt.clf()"
   ]
  }
 ],
 "metadata": {
  "kernelspec": {
   "display_name": "xtreme",
   "language": "python",
   "name": "python3"
  },
  "language_info": {
   "codemirror_mode": {
    "name": "ipython",
    "version": 3
   },
   "file_extension": ".py",
   "mimetype": "text/x-python",
   "name": "python",
   "nbconvert_exporter": "python",
   "pygments_lexer": "ipython3",
   "version": "3.8.17"
  },
  "orig_nbformat": 4
 },
 "nbformat": 4,
 "nbformat_minor": 2
}
