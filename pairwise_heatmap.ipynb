{
 "cells": [
  {
   "cell_type": "code",
   "execution_count": 46,
   "metadata": {},
   "outputs": [],
   "source": [
    "import pandas as pd\n",
    "import seaborn as sns\n",
    "from matplotlib import pyplot as plt\n",
    "from matplotlib.patches import Rectangle"
   ]
  },
  {
   "cell_type": "code",
   "execution_count": 47,
   "metadata": {},
   "outputs": [],
   "source": [
    "model = 'bloom-1b7'\n",
    "layer = 'inter-layer-17'\n",
    "drop_points = []\n",
    "\n",
    "output_plot_path = 'experiments/heatmaps/through_ckpts'"
   ]
  },
  {
   "cell_type": "code",
   "execution_count": 48,
   "metadata": {},
   "outputs": [
    {
     "data": {
      "text/plain": [
       "<Figure size 640x480 with 0 Axes>"
      ]
     },
     "metadata": {},
     "output_type": "display_data"
    }
   ],
   "source": [
    "df = pd.read_csv(f'csv_files/{model}_f1-score.csv', index_col=0).sort_index() * 100\n",
    "row_titles = ['en', 'ar', 'es', 'eu', 'fr', 'hi', 'mr', 'pt', 'ta', 'ur', 'vi', 'zh']\n",
    "df = df.reindex(index=row_titles)\n",
    "df = df.drop(columns=['best'])\n",
    "ax = sns.heatmap(df, annot=True, fmt=\".1f\", cmap='Greens_r')\n",
    "ax.set(xlabel=\"Global Steps in Training\", ylabel=\"Target Languages\")\n",
    "for wanted_label in drop_points:\n",
    "    wanted_index = df.columns.to_list().index(wanted_label)\n",
    "    N = len(df.index)\n",
    "    x, y, w, h = wanted_index, 0, 1, N\n",
    "    ax.add_patch(Rectangle((x, y), w, h, fill=False, edgecolor='black', lw=2, clip_on=False))\n",
    "    ax.tick_params(length=0)\n",
    "plt.savefig(f'{output_plot_path}/{model}_f1_score.pdf', bbox_inches='tight') \n",
    "plt.clf()"
   ]
  },
  {
   "cell_type": "code",
   "execution_count": 49,
   "metadata": {},
   "outputs": [
    {
     "name": "stdout",
     "output_type": "stream",
     "text": [
      "          best     50000    100000    150000    200000\n",
      "ar    0.815784  0.891269  0.893720  0.887610  0.859673\n",
      "es    0.905233  0.950126  0.952199  0.945133  0.932197\n",
      "eu    0.867597  0.918428  0.926238  0.921629  0.900110\n",
      "fr    0.907904  0.950085  0.952737  0.945258  0.930964\n",
      "hi    0.841366  0.923070  0.924542  0.918207  0.892335\n",
      "pt    0.889769  0.948940  0.946406  0.938214  0.917449\n",
      "ta    0.778383  0.902099  0.896513  0.887958  0.851844\n",
      "ur    0.807214  0.886710  0.891476  0.889114  0.861769\n",
      "vi    0.893123  0.936960  0.939615  0.933497  0.918551\n",
      "code  0.364131  0.602123  0.600913  0.560887  0.508598\n"
     ]
    },
    {
     "data": {
      "text/plain": [
       "<Figure size 640x480 with 0 Axes>"
      ]
     },
     "metadata": {},
     "output_type": "display_data"
    }
   ],
   "source": [
    "df = pd.read_csv(f'csv_files/{model}_{layer}_cos-similarity.csv', index_col=0)\n",
    "print(df)\n",
    "df = df.drop(columns=['best'])\n",
    "ax = sns.heatmap(df, annot=True, fmt=\".3f\", cmap='rocket')\n",
    "ax.set(xlabel=\"Global Steps in Training\", ylabel=\"Target Languages\")\n",
    "for wanted_label in drop_points:\n",
    "    wanted_index = df.columns.to_list().index(wanted_label)\n",
    "    N = len(df.index)\n",
    "    x, y, w, h = wanted_index, 0, 1, N\n",
    "    ax.add_patch(Rectangle((x, y), w, h, fill=False, edgecolor='black', lw=2, clip_on=False))\n",
    "    ax.tick_params(length=0)\n",
    "plt.savefig(f'{output_plot_path}/{model}_{layer}_cos-similarity.pdf', bbox_inches='tight') \n",
    "plt.clf()"
   ]
  },
  {
   "cell_type": "code",
   "execution_count": 50,
   "metadata": {},
   "outputs": [
    {
     "data": {
      "text/plain": [
       "<Figure size 640x480 with 0 Axes>"
      ]
     },
     "metadata": {},
     "output_type": "display_data"
    }
   ],
   "source": [
    "df = pd.read_csv(f'csv_files/{model}_{layer}_ovlp-rate_POS.csv', index_col=0).sort_index()\n",
    "df = df.drop(columns=['best'])\n",
    "df = df.drop(['en', 'ca'])\n",
    "ax = sns.heatmap(df, annot=True, cmap='viridis')\n",
    "ax.set(xlabel=\"Global Steps in Training\", ylabel=\"Target Languages\")\n",
    "for wanted_label in drop_points:\n",
    "    wanted_index = df.columns.to_list().index(wanted_label)\n",
    "    N = len(df.index)\n",
    "    x, y, w, h = wanted_index, 0, 1, N\n",
    "    ax.add_patch(Rectangle((x, y), w, h, fill=False, edgecolor='black', lw=2, clip_on=False))\n",
    "    ax.tick_params(length=0)\n",
    "plt.savefig(f'{output_plot_path}/{model}_{layer}_ovlp-rate.pdf', bbox_inches='tight') \n",
    "plt.clf()"
   ]
  }
 ],
 "metadata": {
  "kernelspec": {
   "display_name": "xtreme",
   "language": "python",
   "name": "python3"
  },
  "language_info": {
   "codemirror_mode": {
    "name": "ipython",
    "version": 3
   },
   "file_extension": ".py",
   "mimetype": "text/x-python",
   "name": "python",
   "nbconvert_exporter": "python",
   "pygments_lexer": "ipython3",
   "version": "3.8.17"
  },
  "orig_nbformat": 4
 },
 "nbformat": 4,
 "nbformat_minor": 2
}
