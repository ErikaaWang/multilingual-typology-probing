{
 "cells": [
  {
   "cell_type": "code",
   "execution_count": 86,
   "metadata": {},
   "outputs": [],
   "source": [
    "# ==============imports===================\n",
    "import pandas as pd\n",
    "import os\n",
    "\n",
    "import matplotlib.pyplot as plt\n",
    "plt.ioff()\n",
    "import matplotlib.ticker as mtick\n",
    "import seaborn as sns"
   ]
  },
  {
   "cell_type": "code",
   "execution_count": 87,
   "metadata": {},
   "outputs": [],
   "source": [
    "# ==================args=====================\n",
    "\n",
    "model = 'bloom-1b7'\n",
    "checkpoints = ['10000', '50000', '100000', '150000', '200000', '250000']\n",
    "# checkpoints = ['1000', '10000', '100000', '200000', '300000', '400000', '500000', '600000']\n",
    "\n",
    "layer = 'inter-layer-17'\n",
    "\n",
    "sns.set_theme()"
   ]
  },
  {
   "cell_type": "code",
   "execution_count": 88,
   "metadata": {},
   "outputs": [],
   "source": [
    "# ======================read cos similarities==============================\n",
    "\n",
    "fig, ax1 = plt.subplots(figsize=(5.5, 5))\n",
    "plt.ioff()\n",
    "\n",
    "for l in ['last-layer', layer]:\n",
    "\n",
    "    cos_dict = pd.read_csv(f'csv_files/{model}_{l}_cos-similarity.csv', index_col=0).to_dict()\n",
    "\n",
    "    avg_cos_dict = {}\n",
    "    code_cos_dict = {}    \n",
    "\n",
    "    for ckpt, cos_similarity in cos_dict.items():\n",
    "        if ckpt == 'best':\n",
    "            continue\n",
    "        code_cos_dict[int(ckpt)] = cos_similarity['code']\n",
    "        del cos_similarity['code']\n",
    "        avg_cos_dict[int(ckpt)] = sum(cos_similarity.values())/len(cos_similarity.values())\n",
    "\n",
    "    # plotting\n",
    "    ckpts, cos_similarities = zip(*avg_cos_dict.items())\n",
    "    code_cos_similarities = code_cos_dict.values()\n",
    "    ax1.set_xlabel('global steps')\n",
    "    ax1.set_ylabel('Cosine Similarities')\n",
    "    ax1.tick_params(axis='y', grid_alpha=0.5)\n",
    "    if l == 'last-layer':         \n",
    "        ax1.plot(ckpts, cos_similarities, 'g--', label='nl-last-layer')\n",
    "        ax1.plot(ckpts, code_cos_similarities, 'm--', label='code-last-layer')\n",
    "    else:\n",
    "        ax1.plot(ckpts, cos_similarities, 'g:', label='nl')\n",
    "        ax1.plot(ckpts, code_cos_similarities, 'm:', label='code')        "
   ]
  },
  {
   "cell_type": "code",
   "execution_count": 89,
   "metadata": {},
   "outputs": [
    {
     "name": "stdout",
     "output_type": "stream",
     "text": [
      "['best', '0.1342079772079772\\n']\n",
      "['10000', '0.04760805860805861\\n']\n",
      "['50000', '0.06011884411884413\\n']\n",
      "['100000', '0.0765050875050875\\n']\n",
      "['150000', '0.08755718355718356\\n']\n",
      "['200000', '0.09470288970288969\\n']\n",
      "['250000', '0.10913268213268212\\n']\n"
     ]
    }
   ],
   "source": [
    "# ===========================read overlap ratios============================\n",
    "ax2 = ax1.twinx()\n",
    "\n",
    "with open(f'csv_files/{model}_{layer}_avg-ovlp-rate-by-ckpt.txt', 'r') as f:\n",
    "    lines = f.readlines()\n",
    "    avg_ovlp_dict = {}\n",
    "    for line in lines:\n",
    "        list = line.split(',')\n",
    "        print(list)\n",
    "        if list[0] == 'best':\n",
    "            continue\n",
    "        avg_ovlp_dict[int(list[0])] = float(list[1])\n",
    "    ckpts, avg_ovlps = zip(*avg_ovlp_dict.items())\n",
    "    ax2.plot(ckpts, avg_ovlps, 'r-', label='avg')"
   ]
  },
  {
   "cell_type": "code",
   "execution_count": 90,
   "metadata": {},
   "outputs": [],
   "source": [
    "ax1.legend(loc='center left', bbox_to_anchor=(-0.6,0.5))\n",
    "ax1.set_ylabel('Cosine Similarities')\n",
    "\n",
    "ax2.legend(loc='center right', bbox_to_anchor=(1.45,0.5))\n",
    "ax2.set_ylabel('overlap rates')\n",
    "\n",
    "fig.gca().yaxis.set_major_formatter(mtick.PercentFormatter(xmax=1))\n",
    "sns.set_theme()\n",
    "plt.savefig(f'experiments/scatterplots/{model}/checkpoints_{layer}_cos-similarity.pdf', bbox_inches='tight')"
   ]
  }
 ],
 "metadata": {
  "kernelspec": {
   "display_name": "xtreme",
   "language": "python",
   "name": "python3"
  },
  "language_info": {
   "codemirror_mode": {
    "name": "ipython",
    "version": 3
   },
   "file_extension": ".py",
   "mimetype": "text/x-python",
   "name": "python",
   "nbconvert_exporter": "python",
   "pygments_lexer": "ipython3",
   "version": "3.8.0"
  },
  "orig_nbformat": 4
 },
 "nbformat": 4,
 "nbformat_minor": 2
}
