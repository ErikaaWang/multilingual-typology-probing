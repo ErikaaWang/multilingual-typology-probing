{
 "cells": [
  {
   "cell_type": "code",
   "execution_count": 11,
   "metadata": {},
   "outputs": [],
   "source": [
    "# this script is used to remove wrong ckpt (1k, 300k) in bloom-1b7\n",
    "\n",
    "from scipy.stats import pearsonr, spearmanr\n",
    "import pandas as pd"
   ]
  },
  {
   "cell_type": "code",
   "execution_count": 12,
   "metadata": {},
   "outputs": [],
   "source": [
    "layers = [13, 17]\n",
    "files = ['f1-score', 'ovlp-rate']"
   ]
  },
  {
   "cell_type": "code",
   "execution_count": 13,
   "metadata": {},
   "outputs": [],
   "source": [
    "for layer in layers:\n",
    "    for file in files:\n",
    "        df = pd.read_csv(f'bloom-1b7_inter-layer-{layer}_{file}.csv', index_col=0)\n",
    "        df = df.drop(columns=['1000', '300000'])\n",
    "        df.to_csv(f'bloom-1b7_inter-layer-{layer}_{file}.csv')"
   ]
  }
 ],
 "metadata": {
  "kernelspec": {
   "display_name": "xtreme",
   "language": "python",
   "name": "python3"
  },
  "language_info": {
   "codemirror_mode": {
    "name": "ipython",
    "version": 3
   },
   "file_extension": ".py",
   "mimetype": "text/x-python",
   "name": "python",
   "nbconvert_exporter": "python",
   "pygments_lexer": "ipython3",
   "version": "3.8.17"
  },
  "orig_nbformat": 4
 },
 "nbformat": 4,
 "nbformat_minor": 2
}
